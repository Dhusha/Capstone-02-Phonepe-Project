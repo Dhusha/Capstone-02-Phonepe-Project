{
 "cells": [
  {
   "cell_type": "code",
   "execution_count": 1,
   "metadata": {},
   "outputs": [],
   "source": [
    "import os\n",
    "import json\n",
    "import pandas as pd\n",
    "import mysql.connector"
   ]
  },
  {
   "cell_type": "code",
   "execution_count": 2,
   "metadata": {},
   "outputs": [],
   "source": [
    "#aggregated_transaction\n",
    "\n",
    "path1=\"C:/Users/tpsna/OneDrive/Desktop/VSCode/Phonepe/pulse/data/aggregated/transaction/country/india/state/\"\n",
    "agr_trns_list=os.listdir(path1)\n",
    "\n",
    "column1={\"States\":[],\"Years\":[],\"Quater\":[], \"Transaction_type\":[],\"Transaction_count\":[],\"Transaction_amount\":[]}\n",
    "for state in agr_trns_list:\n",
    "    current_states = path1 + state + \"/\"\n",
    "    #print(current_states)\n",
    "    agr_year_list = os.listdir(current_states)\n",
    "    #print(agr_year_list)\n",
    "    \n",
    "    for year in agr_year_list:\n",
    "        current_year = current_states + year + \"/\"\n",
    "        agr_file_list = os.listdir(current_year)\n",
    "\n",
    "        for file in agr_file_list:\n",
    "            current_file = current_year + file \n",
    "            data=open(current_file,\"r\")   #r=read\n",
    "\n",
    "            A=json.load(data)\n",
    "            for i in A[\"data\"][\"transactionData\"]:\n",
    "                name=i[\"name\"]\n",
    "                count=i[\"paymentInstruments\"][0][\"count\"]\n",
    "                amount=i[\"paymentInstruments\"][0][\"amount\"]\n",
    "                column1[\"Transaction_type\"].append(name)\n",
    "                column1[\"Transaction_count\"].append(count)\n",
    "                column1[\"Transaction_amount\"].append(amount)\n",
    "                column1[\"States\"].append(state)\n",
    "                column1[\"Years\"].append(year)\n",
    "                column1[\"Quater\"].append(int(file.strip(\".json\")))\n",
    "\n",
    "\n",
    "aggregated_transaction = pd.DataFrame(column1)\n"
   ]
  },
  {
   "cell_type": "code",
   "execution_count": 3,
   "metadata": {},
   "outputs": [],
   "source": [
    "aggregated_transaction['States'] = aggregated_transaction['States'].str.replace(\"andaman-&-nicobar-islands\",\"Andaman & Nicobar\")\n",
    "aggregated_transaction['States'] = aggregated_transaction['States'].str.replace(\"-\",\" \")\n",
    "aggregated_transaction['States'] = aggregated_transaction['States'].str.title()\n",
    "aggregated_transaction['States'] = aggregated_transaction['States'].str.replace(\"Dadra & Nagar Haveli & Daman & Diu\",\"Dadra and Nagar Haveli and Daman and Diu\")\n",
    "\n"
   ]
  },
  {
   "cell_type": "code",
   "execution_count": 4,
   "metadata": {},
   "outputs": [
    {
     "data": {
      "text/plain": [
       "array(['Andaman & Nicobar', 'Andhra Pradesh', 'Arunachal Pradesh',\n",
       "       'Assam', 'Bihar', 'Chandigarh', 'Chhattisgarh',\n",
       "       'Dadra and Nagar Haveli and Daman and Diu', 'Delhi', 'Goa',\n",
       "       'Gujarat', 'Haryana', 'Himachal Pradesh', 'Jammu & Kashmir',\n",
       "       'Jharkhand', 'Karnataka', 'Kerala', 'Ladakh', 'Lakshadweep',\n",
       "       'Madhya Pradesh', 'Maharashtra', 'Manipur', 'Meghalaya', 'Mizoram',\n",
       "       'Nagaland', 'Odisha', 'Puducherry', 'Punjab', 'Rajasthan',\n",
       "       'Sikkim', 'Tamil Nadu', 'Telangana', 'Tripura', 'Uttar Pradesh',\n",
       "       'Uttarakhand', 'West Bengal'], dtype=object)"
      ]
     },
     "execution_count": 4,
     "metadata": {},
     "output_type": "execute_result"
    }
   ],
   "source": [
    "aggregated_transaction['States'].unique()"
   ]
  },
  {
   "cell_type": "code",
   "execution_count": 45,
   "metadata": {},
   "outputs": [
    {
     "name": "stdout",
     "output_type": "stream",
     "text": [
      "<mysql.connector.connection_cext.CMySQLConnection object at 0x0000022602696F90>\n"
     ]
    }
   ],
   "source": [
    "#MySQL Connection:\n",
    "mydb = mysql.connector.connect(host=\"localhost\",user=\"root\",password=\"Dhusha98\")\n",
    "print(mydb)\n",
    "mycursor = mydb.cursor(buffered=True)\n",
    "#mycursor.execute('CREATE DATABASE phonepepulse')\n",
    "mycursor.execute('use phonepepulse')"
   ]
  },
  {
   "cell_type": "code",
   "execution_count": 50,
   "metadata": {},
   "outputs": [],
   "source": [
    "#creating aggregated_transaction table:\n",
    "sql_query=\"CREATE TABLE agr_trns (States VARCHAR(255), Years INT, Quater INT, Transaction_type VARCHAR(255), Transaction_count BIGINT, Transaction_amount BIGINT)\"\n",
    "mycursor.execute(sql_query)\n",
    "mydb.commit()\n",
    "\n",
    "insert_query=\"INSERT INTO agr_trns(States,Years,Quater,Transaction_type,Transaction_count,Transaction_amount) VALUES (%s, %s, %s, %s, %s, %s)\"\n",
    "data=aggregated_transaction.values.tolist()\n",
    "mycursor.executemany(insert_query,data)\n",
    "mydb.commit()"
   ]
  },
  {
   "cell_type": "code",
   "execution_count": 4,
   "metadata": {},
   "outputs": [],
   "source": [
    "#aggregated_user\n",
    "\n",
    "path2=\"C:/Users/tpsna/OneDrive/Desktop/VSCode/Phonepe/pulse/data/aggregated/user/country/india/state/\"\n",
    "agr_user_list=os.listdir(path2)\n",
    "\n",
    "column2={\"States\":[],\"Years\":[],\"Quater\":[], \"Brands\":[],\"Transaction_count\":[],\"Percentage\":[]}\n",
    "for state in agr_user_list:\n",
    "    current_states = path2 + state + \"/\"\n",
    "    #print(current_states)\n",
    "    agr_year_list = os.listdir(current_states)\n",
    "    #print(agr_year_list)\n",
    "    \n",
    "    for year in agr_year_list:\n",
    "        current_year = current_states + year + \"/\"\n",
    "        agr_file_list = os.listdir(current_year)\n",
    "\n",
    "        for file in agr_file_list:\n",
    "            current_file = current_year + file \n",
    "            data=open(current_file,\"r\")   #r=read\n",
    "\n",
    "            B=json.load(data)\n",
    "            try:\n",
    "                for i in B[\"data\"][\"usersByDevice\"]:\n",
    "                    brand=i[\"brand\"]\n",
    "                    count=i[\"count\"]\n",
    "                    percentage=i[\"percentage\"]\n",
    "                    column2[\"Brands\"].append(brand)\n",
    "                    column2[\"Transaction_count\"].append(count)\n",
    "                    column2[\"Percentage\"].append(percentage)\n",
    "                    column2[\"States\"].append(state)\n",
    "                    column2[\"Years\"].append(year)\n",
    "                    column2[\"Quater\"].append(int(file.strip(\".json\")))\n",
    "            except:\n",
    "                pass\n",
    "\n",
    "aggregated_user=pd.DataFrame(column2)"
   ]
  },
  {
   "cell_type": "code",
   "execution_count": 6,
   "metadata": {},
   "outputs": [],
   "source": [
    "aggregated_user['States'] = aggregated_user['States'].str.replace(\"andaman-&-nicobar-islands\",\"Andaman & Nicobar\")\n",
    "aggregated_user['States'] = aggregated_user['States'].str.replace(\"-\",\" \")\n",
    "aggregated_user['States'] = aggregated_user['States'].str.title()\n",
    "aggregated_user['States'] = aggregated_user['States'].str.replace(\"Dadra & Nagar Haveli & Daman & Diu\",\"Dadra and Nagar Haveli and Daman and Diu\")\n",
    "\n"
   ]
  },
  {
   "cell_type": "code",
   "execution_count": 7,
   "metadata": {},
   "outputs": [
    {
     "data": {
      "text/plain": [
       "array(['Andaman & Nicobar', 'Andhra Pradesh', 'Arunachal Pradesh',\n",
       "       'Assam', 'Bihar', 'Chandigarh', 'Chhattisgarh',\n",
       "       'Dadra and Nagar Haveli and Daman and Diu', 'Delhi', 'Goa',\n",
       "       'Gujarat', 'Haryana', 'Himachal Pradesh', 'Jammu & Kashmir',\n",
       "       'Jharkhand', 'Karnataka', 'Kerala', 'Ladakh', 'Lakshadweep',\n",
       "       'Madhya Pradesh', 'Maharashtra', 'Manipur', 'Meghalaya', 'Mizoram',\n",
       "       'Nagaland', 'Odisha', 'Puducherry', 'Punjab', 'Rajasthan',\n",
       "       'Sikkim', 'Tamil Nadu', 'Telangana', 'Tripura', 'Uttar Pradesh',\n",
       "       'Uttarakhand', 'West Bengal'], dtype=object)"
      ]
     },
     "execution_count": 7,
     "metadata": {},
     "output_type": "execute_result"
    }
   ],
   "source": [
    "aggregated_user['States'].unique()"
   ]
  },
  {
   "cell_type": "code",
   "execution_count": 73,
   "metadata": {},
   "outputs": [],
   "source": [
    "#creating aggregated_user table:\n",
    "sql_query2=\"CREATE TABLE agr_user (States VARCHAR(255), Years INT, Quater INT, Brands VARCHAR(255), Transaction_count BIGINT, Percentage FLOAT)\"\n",
    "mycursor.execute(sql_query2)\n",
    "mydb.commit()\n",
    "\n",
    "insert_query2=\"\"\"INSERT INTO agr_user(States, Years, Quater, Brands, Transaction_count, Percentage)\n",
    "                VALUES (%s, %s, %s, %s, %s, %s)\"\"\"\n",
    "data=aggregated_user.values.tolist()\n",
    "mycursor.executemany(insert_query2,data)\n",
    "mydb.commit()"
   ]
  },
  {
   "cell_type": "code",
   "execution_count": 24,
   "metadata": {},
   "outputs": [],
   "source": [
    "#map transactions\n",
    "path3=\"C:/Users/tpsna/OneDrive/Desktop/VSCode/Phonepe/pulse/data/map/transaction/hover/country/india/state/\"\n",
    "map_trns_list=os.listdir(path3)\n",
    "\n",
    "column3={\"States\":[],\"Years\":[],\"Quater\":[], \"Districts\":[],\"Transaction_count\":[],\"Transaction_amount\":[]}\n",
    "for state in map_trns_list:\n",
    "    current_states = path3 + state + \"/\"\n",
    "    #print(current_states)\n",
    "    map_year_list = os.listdir(current_states)\n",
    "    #print(agr_year_list)\n",
    "    \n",
    "    for year in map_year_list:\n",
    "        current_year = current_states + year + \"/\"\n",
    "        map_file_list = os.listdir(current_year)\n",
    "\n",
    "        for file in map_file_list:\n",
    "            current_file = current_year + file \n",
    "            data=open(current_file,\"r\")   #r=read\n",
    "\n",
    "            C=json.load(data)\n",
    "            for i in C[\"data\"][\"hoverDataList\"]:\n",
    "                    name=i[\"name\"]\n",
    "                    count=i[\"metric\"][0][\"count\"]\n",
    "                    amount=i[\"metric\"][0][\"amount\"]\n",
    "                    column3[\"Districts\"].append(name)\n",
    "                    column3[\"Transaction_count\"].append(count)\n",
    "                    column3[\"Transaction_amount\"].append(amount)\n",
    "                    column3[\"States\"].append(state)\n",
    "                    column3[\"Years\"].append(year)\n",
    "                    column3[\"Quater\"].append(int(file.strip(\".json\")))\n",
    "\n",
    "map_transaction=pd.DataFrame(column3)"
   ]
  },
  {
   "cell_type": "code",
   "execution_count": 25,
   "metadata": {},
   "outputs": [],
   "source": [
    "map_transaction['States'] = map_transaction['States'].str.replace(\"andaman-&-nicobar-islands\",\"Andaman & Nicobar\")\n",
    "map_transaction['States'] = map_transaction['States'].str.replace(\"-\",\" \")\n",
    "map_transaction['States'] = map_transaction['States'].str.title()\n",
    "map_transaction['States'] = map_transaction['States'].str.replace(\"Dadra & Nagar Haveli & Daman & Diu\",\"Dadra and Nagar Haveli and Daman and Diu\")\n",
    "\n"
   ]
  },
  {
   "cell_type": "code",
   "execution_count": 52,
   "metadata": {},
   "outputs": [
    {
     "data": {
      "text/plain": [
       "array(['Andaman & Nicobar', 'Andhra Pradesh', 'Arunachal Pradesh',\n",
       "       'Assam', 'Bihar', 'Chandigarh', 'Chhattisgarh',\n",
       "       'Dadra and Nagar Haveli and Daman and Diu', 'Delhi', 'Goa',\n",
       "       'Gujarat', 'Haryana', 'Himachal Pradesh', 'Jammu & Kashmir',\n",
       "       'Jharkhand', 'Karnataka', 'Kerala', 'Ladakh', 'Lakshadweep',\n",
       "       'Madhya Pradesh', 'Maharashtra', 'Manipur', 'Meghalaya', 'Mizoram',\n",
       "       'Nagaland', 'Odisha', 'Puducherry', 'Punjab', 'Rajasthan',\n",
       "       'Sikkim', 'Tamil Nadu', 'Telangana', 'Tripura', 'Uttar Pradesh',\n",
       "       'Uttarakhand', 'West Bengal'], dtype=object)"
      ]
     },
     "execution_count": 52,
     "metadata": {},
     "output_type": "execute_result"
    }
   ],
   "source": [
    "map_transaction['States'].unique()"
   ]
  },
  {
   "cell_type": "code",
   "execution_count": 63,
   "metadata": {},
   "outputs": [],
   "source": [
    "#creating map_transaction table:\n",
    "sql_query3=\"CREATE TABLE map_trns (States VARCHAR(255), Years INT, Quater INT, Districts VARCHAR(255), Transaction_count BIGINT, Transaction_amount BIGINT)\"\n",
    "mycursor.execute(sql_query3)\n",
    "mydb.commit()\n",
    "\n",
    "insert_query3=\"\"\"INSERT INTO map_trns(States, Years, Quater, Districts, Transaction_count, Transaction_amount)\n",
    "                VALUES (%s, %s, %s, %s, %s, %s)\"\"\"\n",
    "data=map_transaction.values.tolist()\n",
    "mycursor.executemany(insert_query3,data)\n",
    "mydb.commit()"
   ]
  },
  {
   "cell_type": "code",
   "execution_count": 39,
   "metadata": {},
   "outputs": [
    {
     "data": {
      "text/plain": [
       "Index(['States', 'Years', 'Quater', 'Districts', 'Transaction_count',\n",
       "       'Transaction_amount'],\n",
       "      dtype='object')"
      ]
     },
     "execution_count": 39,
     "metadata": {},
     "output_type": "execute_result"
    }
   ],
   "source": [
    "map_transaction.columns"
   ]
  },
  {
   "cell_type": "code",
   "execution_count": 28,
   "metadata": {},
   "outputs": [],
   "source": [
    "#map_user\n",
    "path4=\"C:/Users/tpsna/OneDrive/Desktop/VSCode/Phonepe/pulse/data/map/user/hover/country/india/state/\"\n",
    "map_user_list=os.listdir(path4)\n",
    "\n",
    "column4={\"States\":[],\"Years\":[],\"Quater\":[], \"Districts\":[],\"RegisteredUsers\":[],\"AppOpens\":[]}\n",
    "for state in map_user_list:\n",
    "    current_states = path4 + state + \"/\"\n",
    "    #print(current_states)\n",
    "    map_year_list = os.listdir(current_states)\n",
    "    #print(agr_year_list)\n",
    "    \n",
    "    for year in map_year_list:\n",
    "        current_year = current_states + year + \"/\"\n",
    "        map_file_list = os.listdir(current_year)\n",
    "\n",
    "        for file in map_file_list:\n",
    "            current_file = current_year + file \n",
    "            data=open(current_file,\"r\")   #r=read\n",
    "\n",
    "            D=json.load(data)\n",
    "            for i in D[\"data\"][\"hoverData\"].items():\n",
    "                    district=i[0]\n",
    "                    registeredUsers=i[1][\"registeredUsers\"]\n",
    "                    appOpens=i[1][\"appOpens\"]\n",
    "                    column4[\"Districts\"].append(district)\n",
    "                    column4[\"RegisteredUsers\"].append(registeredUsers)\n",
    "                    column4[\"AppOpens\"].append(appOpens)\n",
    "                    column4[\"States\"].append(state)\n",
    "                    column4[\"Years\"].append(year)\n",
    "                    column4[\"Quater\"].append(int(file.strip(\".json\")))\n",
    "\n",
    "map_user=pd.DataFrame(column4)"
   ]
  },
  {
   "cell_type": "code",
   "execution_count": 29,
   "metadata": {},
   "outputs": [],
   "source": [
    "map_user['States'] = map_user['States'].str.replace(\"andaman-&-nicobar-islands\",\"Andaman & Nicobar\")\n",
    "map_user['States'] = map_user['States'].str.replace(\"-\",\" \")\n",
    "map_user['States'] = map_user['States'].str.title()\n",
    "map_user['States'] = map_user['States'].str.replace(\"Dadra & Nagar Haveli & Daman & Diu\",\"Dadra and Nagar Haveli and Daman and Diu\")\n"
   ]
  },
  {
   "cell_type": "code",
   "execution_count": 30,
   "metadata": {},
   "outputs": [
    {
     "data": {
      "text/plain": [
       "array(['Andaman & Nicobar', 'Andhra Pradesh', 'Arunachal Pradesh',\n",
       "       'Assam', 'Bihar', 'Chandigarh', 'Chhattisgarh',\n",
       "       'Dadra and Nagar Haveli and Daman and Diu', 'Delhi', 'Goa',\n",
       "       'Gujarat', 'Haryana', 'Himachal Pradesh', 'Jammu & Kashmir',\n",
       "       'Jharkhand', 'Karnataka', 'Kerala', 'Ladakh', 'Lakshadweep',\n",
       "       'Madhya Pradesh', 'Maharashtra', 'Manipur', 'Meghalaya', 'Mizoram',\n",
       "       'Nagaland', 'Odisha', 'Puducherry', 'Punjab', 'Rajasthan',\n",
       "       'Sikkim', 'Tamil Nadu', 'Telangana', 'Tripura', 'Uttar Pradesh',\n",
       "       'Uttarakhand', 'West Bengal'], dtype=object)"
      ]
     },
     "execution_count": 30,
     "metadata": {},
     "output_type": "execute_result"
    }
   ],
   "source": [
    "map_user['States'].unique()"
   ]
  },
  {
   "cell_type": "code",
   "execution_count": 67,
   "metadata": {},
   "outputs": [],
   "source": [
    "#creating map_user table:\n",
    "sql_query4=\"CREATE TABLE map_user (States VARCHAR(255), Years INT, Quater INT, Districts VARCHAR(255), RegisteredUsers BIGINT, AppOpens BIGINT)\"\n",
    "mycursor.execute(sql_query4)\n",
    "mydb.commit()\n",
    "\n",
    "insert_query4=\"\"\"INSERT INTO map_user(States, Years, Quater, Districts, RegisteredUsers, AppOpens)\n",
    "                VALUES (%s, %s, %s, %s, %s, %s)\"\"\"\n",
    "data=map_user.values.tolist()\n",
    "mycursor.executemany(insert_query4,data)\n",
    "mydb.commit()"
   ]
  },
  {
   "cell_type": "code",
   "execution_count": 40,
   "metadata": {},
   "outputs": [
    {
     "data": {
      "text/plain": [
       "Index(['States', 'Years', 'Quater', 'Districts', 'RegisteredUsers',\n",
       "       'AppOpens'],\n",
       "      dtype='object')"
      ]
     },
     "execution_count": 40,
     "metadata": {},
     "output_type": "execute_result"
    }
   ],
   "source": [
    "map_user.columns"
   ]
  },
  {
   "cell_type": "code",
   "execution_count": 32,
   "metadata": {},
   "outputs": [],
   "source": [
    "#top_transaction\n",
    "path5=\"C:/Users/tpsna/OneDrive/Desktop/VSCode/Phonepe/pulse/data/top/transaction/country/india/state/\"\n",
    "top_trns_list=os.listdir(path5)\n",
    "\n",
    "column5={\"States\":[],\"Years\":[],\"Quater\":[], \"Pincodes\":[],\"Transaction_count\":[],\"Transaction_amount\":[]}\n",
    "for state in top_trns_list:\n",
    "    current_states = path5 + state + \"/\"\n",
    "    #print(current_states)\n",
    "    top_year_list = os.listdir(current_states)\n",
    "    #print(agr_year_list)\n",
    "    \n",
    "    for year in top_year_list:\n",
    "        current_year = current_states + year + \"/\"\n",
    "        top_file_list = os.listdir(current_year)\n",
    "\n",
    "        for file in top_file_list:\n",
    "            current_file = current_year + file \n",
    "            data=open(current_file,\"r\")   #r=read\n",
    "\n",
    "            E=json.load(data)\n",
    "            for i in E[\"data\"][\"pincodes\"]:\n",
    "                entityname=i[\"entityName\"]\n",
    "                count=i[\"metric\"][\"count\"]\n",
    "                amount=i[\"metric\"][\"amount\"]\n",
    "                column5[\"Pincodes\"].append(entityname)\n",
    "                column5[\"Transaction_count\"].append(count)\n",
    "                column5[\"Transaction_amount\"].append(amount)\n",
    "                column5[\"States\"].append(state)\n",
    "                column5[\"Years\"].append(year)\n",
    "                column5[\"Quater\"].append(int(file.strip(\".json\")))\n",
    "        \n",
    "\n",
    "top_transaction=pd.DataFrame(column5)\n"
   ]
  },
  {
   "cell_type": "code",
   "execution_count": 33,
   "metadata": {},
   "outputs": [],
   "source": [
    "top_transaction['States'] = top_transaction['States'].str.replace(\"andaman-&-nicobar-islands\",\"Andaman & Nicobar\")\n",
    "top_transaction['States'] = top_transaction['States'].str.replace(\"-\",\" \")\n",
    "top_transaction['States'] = top_transaction['States'].str.title()\n",
    "top_transaction['States'] = top_transaction['States'].str.replace(\"Dadra & Nagar Haveli & Daman & Diu\",\"Dadra and Nagar Haveli and Daman and Diu\")\n"
   ]
  },
  {
   "cell_type": "code",
   "execution_count": 34,
   "metadata": {},
   "outputs": [
    {
     "data": {
      "text/plain": [
       "array(['Andaman & Nicobar', 'Andhra Pradesh', 'Arunachal Pradesh',\n",
       "       'Assam', 'Bihar', 'Chandigarh', 'Chhattisgarh',\n",
       "       'Dadra and Nagar Haveli and Daman and Diu', 'Delhi', 'Goa',\n",
       "       'Gujarat', 'Haryana', 'Himachal Pradesh', 'Jammu & Kashmir',\n",
       "       'Jharkhand', 'Karnataka', 'Kerala', 'Ladakh', 'Lakshadweep',\n",
       "       'Madhya Pradesh', 'Maharashtra', 'Manipur', 'Meghalaya', 'Mizoram',\n",
       "       'Nagaland', 'Odisha', 'Puducherry', 'Punjab', 'Rajasthan',\n",
       "       'Sikkim', 'Tamil Nadu', 'Telangana', 'Tripura', 'Uttar Pradesh',\n",
       "       'Uttarakhand', 'West Bengal'], dtype=object)"
      ]
     },
     "execution_count": 34,
     "metadata": {},
     "output_type": "execute_result"
    }
   ],
   "source": [
    "top_transaction['States'].unique()"
   ]
  },
  {
   "cell_type": "code",
   "execution_count": 65,
   "metadata": {},
   "outputs": [],
   "source": [
    "#creating top_transaction table:\n",
    "sql_query5=\"CREATE TABLE top_trns (States VARCHAR(255), Years INT, Quater INT, Pincodes INT, Transaction_count BIGINT, Transaction_amount BIGINT)\"\n",
    "mycursor.execute(sql_query5)\n",
    "mydb.commit()\n",
    "\n",
    "insert_query5=\"\"\"INSERT INTO top_trns(States, Years, Quater, Pincodes, Transaction_count, Transaction_amount)\n",
    "                VALUES (%s, %s, %s, %s, %s, %s)\"\"\"\n",
    "data=top_transaction.values.tolist()\n",
    "mycursor.executemany(insert_query5,data)\n",
    "mydb.commit()"
   ]
  },
  {
   "cell_type": "code",
   "execution_count": 41,
   "metadata": {},
   "outputs": [
    {
     "data": {
      "text/plain": [
       "Index(['States', 'Years', 'Quater', 'Pincodes', 'Transaction_count',\n",
       "       'Transaction_amount'],\n",
       "      dtype='object')"
      ]
     },
     "execution_count": 41,
     "metadata": {},
     "output_type": "execute_result"
    }
   ],
   "source": [
    "top_transaction.columns"
   ]
  },
  {
   "cell_type": "code",
   "execution_count": 36,
   "metadata": {},
   "outputs": [],
   "source": [
    "#top_user\n",
    "path6=\"C:/Users/tpsna/OneDrive/Desktop/VSCode/Phonepe/pulse/data/top/user/country/india/state/\"\n",
    "top_user_list=os.listdir(path6)\n",
    "\n",
    "column6={\"States\":[],\"Years\":[],\"Quater\":[], \"Pincodes\":[],\"RegisteredUsers\":[]}\n",
    "for state in top_user_list:\n",
    "    current_states = path6 + state + \"/\"\n",
    "    #print(current_states)\n",
    "    top_year_list = os.listdir(current_states)\n",
    "    #print(agr_year_list)\n",
    "    \n",
    "    for year in top_year_list:\n",
    "        current_year = current_states + year + \"/\"\n",
    "        top_file_list = os.listdir(current_year)\n",
    "\n",
    "        for file in top_file_list:\n",
    "            current_file = current_year + file \n",
    "            data=open(current_file,\"r\")   #r=read\n",
    "\n",
    "            F=json.load(data)\n",
    "            for i in F[\"data\"][\"pincodes\"]:\n",
    "                entityname=i[\"name\"]\n",
    "                registeredusers=i[\"registeredUsers\"]\n",
    "                column6[\"Pincodes\"].append(entityname)\n",
    "                column6[\"RegisteredUsers\"].append(registeredusers)\n",
    "                column6[\"States\"].append(state)\n",
    "                column6[\"Years\"].append(year)\n",
    "                column6[\"Quater\"].append(int(file.strip(\".json\")))\n",
    "        \n",
    "top_users=pd.DataFrame(column6)"
   ]
  },
  {
   "cell_type": "code",
   "execution_count": 37,
   "metadata": {},
   "outputs": [],
   "source": [
    "top_users['States'] = top_users['States'].str.replace(\"andaman-&-nicobar-islands\",\"Andaman & Nicobar\")\n",
    "top_users['States'] = top_users['States'].str.replace(\"-\",\" \")\n",
    "top_users['States'] = top_users['States'].str.title()\n",
    "top_users['States'] = top_users['States'].str.replace(\"Dadra & Nagar Haveli & Daman & Diu\",\"Dadra and Nagar Haveli and Daman and Diu\")\n"
   ]
  },
  {
   "cell_type": "code",
   "execution_count": 38,
   "metadata": {},
   "outputs": [
    {
     "data": {
      "text/plain": [
       "array(['Andaman & Nicobar', 'Andhra Pradesh', 'Arunachal Pradesh',\n",
       "       'Assam', 'Bihar', 'Chandigarh', 'Chhattisgarh',\n",
       "       'Dadra and Nagar Haveli and Daman and Diu', 'Delhi', 'Goa',\n",
       "       'Gujarat', 'Haryana', 'Himachal Pradesh', 'Jammu & Kashmir',\n",
       "       'Jharkhand', 'Karnataka', 'Kerala', 'Ladakh', 'Lakshadweep',\n",
       "       'Madhya Pradesh', 'Maharashtra', 'Manipur', 'Meghalaya', 'Mizoram',\n",
       "       'Nagaland', 'Odisha', 'Puducherry', 'Punjab', 'Rajasthan',\n",
       "       'Sikkim', 'Tamil Nadu', 'Telangana', 'Tripura', 'Uttar Pradesh',\n",
       "       'Uttarakhand', 'West Bengal'], dtype=object)"
      ]
     },
     "execution_count": 38,
     "metadata": {},
     "output_type": "execute_result"
    }
   ],
   "source": [
    "\n",
    "top_users['States'].unique()"
   ]
  },
  {
   "cell_type": "code",
   "execution_count": 68,
   "metadata": {},
   "outputs": [],
   "source": [
    "#creating top_user table:\n",
    "sql_query6=\"CREATE TABLE top_user (States VARCHAR(255), Years INT, Quater INT, Pincodes INT, RegisteredUsers BIGINT)\"\n",
    "mycursor.execute(sql_query6)\n",
    "mydb.commit()\n",
    "\n",
    "insert_query6=\"\"\"INSERT INTO top_user(States, Years, Quater, Pincodes, RegisteredUsers)\n",
    "                VALUES (%s, %s, %s, %s, %s)\"\"\"\n",
    "data=top_users.values.tolist()\n",
    "mycursor.executemany(insert_query6,data)\n",
    "mydb.commit()"
   ]
  },
  {
   "cell_type": "code",
   "execution_count": 42,
   "metadata": {},
   "outputs": [
    {
     "data": {
      "text/plain": [
       "Index(['States', 'Years', 'Quater', 'Pincodes', 'RegisteredUsers'], dtype='object')"
      ]
     },
     "execution_count": 42,
     "metadata": {},
     "output_type": "execute_result"
    }
   ],
   "source": [
    "top_users.columns"
   ]
  },
  {
   "cell_type": "code",
   "execution_count": 71,
   "metadata": {},
   "outputs": [
    {
     "data": {
      "text/plain": [
       "[('agr_trns',),\n",
       " ('agr_user',),\n",
       " ('map_trns',),\n",
       " ('map_user',),\n",
       " ('top_trns',),\n",
       " ('top_user',)]"
      ]
     },
     "execution_count": 71,
     "metadata": {},
     "output_type": "execute_result"
    }
   ],
   "source": [
    "mycursor.execute(\"show tables\")\n",
    "mycursor.fetchall()"
   ]
  },
  {
   "cell_type": "code",
   "execution_count": null,
   "metadata": {},
   "outputs": [],
   "source": [
    "#to get the cleaned data in a csv\n",
    "aggregated_transaction.to_csv(\"aggregated_transaction.csv\",index=False)\n",
    "aggregated_user.to_csv(\"aggregated_user.csv\", index=False)\n",
    "map_transaction.to_csv(\"map_transaction.csv\", index=False)\n",
    "map_user.to_csv(\"map_user.csv\", index=False)\n",
    "top_transaction.to_csv(\"top_transaction.csv\", index=False)\n",
    "top_users.to_csv(\"top_users.csv\", index=False)"
   ]
  },
  {
   "cell_type": "code",
   "execution_count": null,
   "metadata": {},
   "outputs": [],
   "source": [
    "States=('Andaman & Nicobar','Andhra Pradesh', 'Arunachal Pradesh',\n",
    "                            'Assam', 'Bihar', 'Chandigarh', 'Chhattisgarh',\n",
    "                            'Dadra and Nagar Haveli and Daman and Diu', 'Delhi', 'Goa',\n",
    "                            'Gujarat', 'Haryana', 'Himachal Pradesh', 'Jammu & Kashmir',\n",
    "                            'Jharkhand', 'Karnataka', 'Kerala', 'Ladakh', 'Lakshadweep',\n",
    "                            'Madhya Pradesh', 'Maharashtra', 'Manipur', 'Meghalaya', 'Mizoram',\n",
    "                            'Nagaland', 'Odisha', 'Puducherry', 'Punjab', 'Rajasthan',\n",
    "                            'Sikkim', 'Tamil Nadu', 'Telangana', 'Tripura', 'Uttar Pradesh',\n",
    "                            'Uttarakhand', 'West Bengal')\n",
    "with open('States.csv', 'w') as file:\n",
    "    for State in States:\n",
    "        file.write(State + '\\n')\n"
   ]
  },
  {
   "cell_type": "code",
   "execution_count": null,
   "metadata": {},
   "outputs": [],
   "source": [
    "states_df = aggregated_transaction[['States']]  # Extracting only the 'States' column\n",
    "states_df.to_csv('States.csv', index=False)\n"
   ]
  }
 ],
 "metadata": {
  "kernelspec": {
   "display_name": "Python 3",
   "language": "python",
   "name": "python3"
  },
  "language_info": {
   "codemirror_mode": {
    "name": "ipython",
    "version": 3
   },
   "file_extension": ".py",
   "mimetype": "text/x-python",
   "name": "python",
   "nbconvert_exporter": "python",
   "pygments_lexer": "ipython3",
   "version": "3.12.2"
  }
 },
 "nbformat": 4,
 "nbformat_minor": 2
}
